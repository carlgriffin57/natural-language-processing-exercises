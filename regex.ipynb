{
 "cells": [
  {
   "cell_type": "code",
   "execution_count": 1,
   "metadata": {},
   "outputs": [],
   "source": [
    "import pandas as pd\n",
    "import re"
   ]
  },
  {
   "cell_type": "markdown",
   "metadata": {},
   "source": [
    "### Write a function named is_vowel. It should accept a string as input and use a regular expression to determine if the passed string is a vowel. While not explicity mentioned in the lesson, you can treat the result of re.search as a boolean value that indicates whether or not the regular expression matches the given string."
   ]
  },
  {
   "cell_type": "code",
   "execution_count": 2,
   "metadata": {},
   "outputs": [],
   "source": [
    "def is_vowel(my_string):\n",
    "    # assign regex that returns any characters that match a, e, i, o, or u\n",
    "    regexp = r'[aeiou]'\n",
    "    \n",
    "    return len(re.findall(regexp, my_string)) > 0"
   ]
  },
  {
   "cell_type": "code",
   "execution_count": 3,
   "metadata": {},
   "outputs": [
    {
     "data": {
      "text/plain": [
       "(True, False)"
      ]
     },
     "execution_count": 3,
     "metadata": {},
     "output_type": "execute_result"
    }
   ],
   "source": [
    "is_vowel('rain'), is_vowel('ccc')"
   ]
  },
  {
   "cell_type": "markdown",
   "metadata": {},
   "source": [
    "### Write a function named is_valid_username that accepts a string as input. A valid username starts with a lowercase letter, and only consists of lowercase letters, numbers, or the _ character. It should also be no longer than 32 characters. The function should return either True or False depending on whether the passed string is a valid username."
   ]
  },
  {
   "cell_type": "code",
   "execution_count": 4,
   "metadata": {},
   "outputs": [],
   "source": [
    "def is_valid_username(username):\n",
    "    \n",
    "    regexp = r'^[a-z]+[a-z0-9_]{1,31}$'\n",
    "\n",
    "    return len(re.findall(regexp, username)) > 0"
   ]
  },
  {
   "cell_type": "code",
   "execution_count": 5,
   "metadata": {},
   "outputs": [
    {
     "data": {
      "text/plain": [
       "(False, False, False)"
      ]
     },
     "execution_count": 5,
     "metadata": {},
     "output_type": "execute_result"
    }
   ],
   "source": [
    "is_valid_username('My_username123'), is_valid_username('is_this_one?'), is_valid_username('write_a_very_long_username_that_goes_on_and_on')"
   ]
  },
  {
   "cell_type": "code",
   "execution_count": 6,
   "metadata": {},
   "outputs": [
    {
     "data": {
      "text/plain": [
       "True"
      ]
     },
     "execution_count": 6,
     "metadata": {},
     "output_type": "execute_result"
    }
   ],
   "source": [
    "is_valid_username('how_about_this')"
   ]
  },
  {
   "cell_type": "markdown",
   "metadata": {},
   "source": [
    "### Write a regular expression to capture phone numbers. It should match all of the following:\n",
    "- (210) 867 5309\n",
    "- +1 210.867.5309\n",
    "- 867-5309\n",
    "- 210-867-5309"
   ]
  },
  {
   "cell_type": "code",
   "execution_count": 7,
   "metadata": {},
   "outputs": [
    {
     "data": {
      "text/plain": [
       "<re.Match object; span=(0, 14), match='(210) 867 5309'>"
      ]
     },
     "execution_count": 7,
     "metadata": {},
     "output_type": "execute_result"
    }
   ],
   "source": [
    "num = '(210) 867 5309'\n",
    "regex = r'.*\\d{,3}.*\\d{3}.*\\d{4}'\n",
    "re.match(regex, num)"
   ]
  },
  {
   "cell_type": "code",
   "execution_count": 8,
   "metadata": {},
   "outputs": [
    {
     "data": {
      "text/plain": [
       "<re.Match object; span=(0, 15), match='+1 210.867.5309'>"
      ]
     },
     "execution_count": 8,
     "metadata": {},
     "output_type": "execute_result"
    }
   ],
   "source": [
    "num = '+1 210.867.5309'\n",
    "regex = r'.*\\d{,3}.*\\d{3}.*\\d{4}'\n",
    "re.match(regex, num)"
   ]
  },
  {
   "cell_type": "code",
   "execution_count": 9,
   "metadata": {},
   "outputs": [
    {
     "data": {
      "text/plain": [
       "<re.Match object; span=(0, 8), match='867-5309'>"
      ]
     },
     "execution_count": 9,
     "metadata": {},
     "output_type": "execute_result"
    }
   ],
   "source": [
    "num = '867-5309'\n",
    "regex = r'.*\\d{,3}.*\\d{3}.*\\d{4}'\n",
    "re.match(regex, num)"
   ]
  },
  {
   "cell_type": "code",
   "execution_count": 10,
   "metadata": {},
   "outputs": [
    {
     "data": {
      "text/plain": [
       "<re.Match object; span=(0, 12), match='210-867-5309'>"
      ]
     },
     "execution_count": 10,
     "metadata": {},
     "output_type": "execute_result"
    }
   ],
   "source": [
    "num = '210-867-5309'\n",
    "regex = r'.*\\d{,3}.*\\d{3}.*\\d{4}'\n",
    "re.match(regex, num)"
   ]
  },
  {
   "cell_type": "markdown",
   "metadata": {},
   "source": [
    "### Use regular expressions to convert the dates below to the standardized year-month-day format.\n",
    "- 02/04/19\n",
    "- 02/05/19\n",
    "- 02/06/19\n",
    "- 02/07/19\n",
    "- 02/08/19\n",
    "- 02/09/19\n",
    "- 02/10/19"
   ]
  },
  {
   "cell_type": "code",
   "execution_count": 12,
   "metadata": {},
   "outputs": [],
   "source": [
    "dates = pd.Series(['02/04/19', '02/05/19', '02/06/19', '02/07/19', '02/08/19', '02/09/19', '02/10/19'])"
   ]
  },
  {
   "cell_type": "code",
   "execution_count": 13,
   "metadata": {},
   "outputs": [
    {
     "data": {
      "text/plain": [
       "0    2019-02-04\n",
       "1    2019-02-05\n",
       "2    2019-02-06\n",
       "3    2019-02-07\n",
       "4    2019-02-08\n",
       "5    2019-02-09\n",
       "6    2019-02-10\n",
       "dtype: object"
      ]
     },
     "execution_count": 13,
     "metadata": {},
     "output_type": "execute_result"
    }
   ],
   "source": [
    "dates.str.replace(r'(\\d+)/(\\d+)/(\\d+)', r'20\\3-\\1-\\2')"
   ]
  },
  {
   "cell_type": "markdown",
   "metadata": {},
   "source": [
    "### Write a regex to extract the various parts of these logfile lines:\n",
    "\n",
    "\n",
    "GET /api/v1/sales?page=86 [16/Apr/2019:193452+0000] HTTP/1.1 {200} 510348 \"python-requests/2.21.0\" 97.105.19.58\n",
    "\n",
    "POST /users_accounts/file-upload [16/Apr/2019:193452+0000] HTTP/1.1 {201} 42 \"User-Agent: Mozilla/5.0 (X11; Fedora; Fedora; Linux x86_64) AppleWebKit/537.36 (KHTML, like Gecko) Chrome/73.0.3683.86 Safari/537.36\" 97.105.19.58\n",
    "\n",
    "GET /api/v1/items?page=3 [16/Apr/2019:193453+0000] HTTP/1.1 {429} 3561 \"python-requests/2.21.0\" 97.105.19.58\n"
   ]
  },
  {
   "cell_type": "code",
   "execution_count": 14,
   "metadata": {},
   "outputs": [],
   "source": [
    "#Create the dataframe with the logfile lines \n",
    "df = pd.DataFrame()\n",
    "df['log'] = pd.Series(['GET /api/v1/sales?page=86 [16/Apr/2019:193452+0000] HTTP/1.1 {200} 510348 \"python-requests/2.21.0\" 97.105.19.58', 'POST /users_accounts/file-upload [16/Apr/2019:193452+0000] HTTP/1.1 {201} 42 \"User-Agent: Mozilla/5.0 (X11; Fedora; Fedora; Linux x86_64) AppleWebKit/537.36 (KHTML, like Gecko) Chrome/73.0.3683.86 Safari/537.36\" 97.105.19.58',\n",
    "      'GET /api/v1/items?page=3 [16/Apr/2019:193453+0000] HTTP/1.1 {429} 3561 \"python-requests/2.21.0\" 97.105.19.58'])"
   ]
  },
  {
   "cell_type": "code",
   "execution_count": 15,
   "metadata": {},
   "outputs": [
    {
     "data": {
      "text/html": [
       "<div>\n",
       "<style scoped>\n",
       "    .dataframe tbody tr th:only-of-type {\n",
       "        vertical-align: middle;\n",
       "    }\n",
       "\n",
       "    .dataframe tbody tr th {\n",
       "        vertical-align: top;\n",
       "    }\n",
       "\n",
       "    .dataframe thead th {\n",
       "        text-align: right;\n",
       "    }\n",
       "</style>\n",
       "<table border=\"1\" class=\"dataframe\">\n",
       "  <thead>\n",
       "    <tr style=\"text-align: right;\">\n",
       "      <th></th>\n",
       "      <th>log</th>\n",
       "    </tr>\n",
       "  </thead>\n",
       "  <tbody>\n",
       "    <tr>\n",
       "      <th>0</th>\n",
       "      <td>GET /api/v1/sales?page=86 [16/Apr/2019:193452+...</td>\n",
       "    </tr>\n",
       "    <tr>\n",
       "      <th>1</th>\n",
       "      <td>POST /users_accounts/file-upload [16/Apr/2019:...</td>\n",
       "    </tr>\n",
       "    <tr>\n",
       "      <th>2</th>\n",
       "      <td>GET /api/v1/items?page=3 [16/Apr/2019:193453+0...</td>\n",
       "    </tr>\n",
       "  </tbody>\n",
       "</table>\n",
       "</div>"
      ],
      "text/plain": [
       "                                                 log\n",
       "0  GET /api/v1/sales?page=86 [16/Apr/2019:193452+...\n",
       "1  POST /users_accounts/file-upload [16/Apr/2019:...\n",
       "2  GET /api/v1/items?page=3 [16/Apr/2019:193453+0..."
      ]
     },
     "execution_count": 15,
     "metadata": {},
     "output_type": "execute_result"
    }
   ],
   "source": [
    "df"
   ]
  },
  {
   "cell_type": "code",
   "execution_count": 16,
   "metadata": {},
   "outputs": [],
   "source": [
    "#What are the different parts of the logfile\n",
    "#Set the parts to column names for reference and future use\n",
    "colnames=['request_method', 'path', 'timestamp', 'http_version', 'status', 'size', 'request_agent', 'ip']"
   ]
  },
  {
   "cell_type": "code",
   "execution_count": 17,
   "metadata": {},
   "outputs": [],
   "source": [
    "#Use regex to extract the parts \n",
    "df = df.log.str.extract(r'(GET|POST)\\s([/\\w\\-\\?=]+)\\s(\\[.+])\\s(HTTP/\\d+\\.\\d+)\\s\\{(\\d+)\\}\\s(\\d+)\\s\"(.+)\"\\s(\\d+\\.\\d+\\.\\d+\\.\\d+)$')"
   ]
  },
  {
   "cell_type": "code",
   "execution_count": 18,
   "metadata": {},
   "outputs": [
    {
     "data": {
      "text/html": [
       "<div>\n",
       "<style scoped>\n",
       "    .dataframe tbody tr th:only-of-type {\n",
       "        vertical-align: middle;\n",
       "    }\n",
       "\n",
       "    .dataframe tbody tr th {\n",
       "        vertical-align: top;\n",
       "    }\n",
       "\n",
       "    .dataframe thead th {\n",
       "        text-align: right;\n",
       "    }\n",
       "</style>\n",
       "<table border=\"1\" class=\"dataframe\">\n",
       "  <thead>\n",
       "    <tr style=\"text-align: right;\">\n",
       "      <th></th>\n",
       "      <th>0</th>\n",
       "      <th>1</th>\n",
       "      <th>2</th>\n",
       "      <th>3</th>\n",
       "      <th>4</th>\n",
       "      <th>5</th>\n",
       "      <th>6</th>\n",
       "      <th>7</th>\n",
       "    </tr>\n",
       "  </thead>\n",
       "  <tbody>\n",
       "    <tr>\n",
       "      <th>0</th>\n",
       "      <td>GET</td>\n",
       "      <td>/api/v1/sales?page=86</td>\n",
       "      <td>[16/Apr/2019:193452+0000]</td>\n",
       "      <td>HTTP/1.1</td>\n",
       "      <td>200</td>\n",
       "      <td>510348</td>\n",
       "      <td>python-requests/2.21.0</td>\n",
       "      <td>97.105.19.58</td>\n",
       "    </tr>\n",
       "    <tr>\n",
       "      <th>1</th>\n",
       "      <td>POST</td>\n",
       "      <td>/users_accounts/file-upload</td>\n",
       "      <td>[16/Apr/2019:193452+0000]</td>\n",
       "      <td>HTTP/1.1</td>\n",
       "      <td>201</td>\n",
       "      <td>42</td>\n",
       "      <td>User-Agent: Mozilla/5.0 (X11; Fedora; Fedora; ...</td>\n",
       "      <td>97.105.19.58</td>\n",
       "    </tr>\n",
       "    <tr>\n",
       "      <th>2</th>\n",
       "      <td>GET</td>\n",
       "      <td>/api/v1/items?page=3</td>\n",
       "      <td>[16/Apr/2019:193453+0000]</td>\n",
       "      <td>HTTP/1.1</td>\n",
       "      <td>429</td>\n",
       "      <td>3561</td>\n",
       "      <td>python-requests/2.21.0</td>\n",
       "      <td>97.105.19.58</td>\n",
       "    </tr>\n",
       "  </tbody>\n",
       "</table>\n",
       "</div>"
      ],
      "text/plain": [
       "      0                            1                          2         3  \\\n",
       "0   GET        /api/v1/sales?page=86  [16/Apr/2019:193452+0000]  HTTP/1.1   \n",
       "1  POST  /users_accounts/file-upload  [16/Apr/2019:193452+0000]  HTTP/1.1   \n",
       "2   GET         /api/v1/items?page=3  [16/Apr/2019:193453+0000]  HTTP/1.1   \n",
       "\n",
       "     4       5                                                  6  \\\n",
       "0  200  510348                             python-requests/2.21.0   \n",
       "1  201      42  User-Agent: Mozilla/5.0 (X11; Fedora; Fedora; ...   \n",
       "2  429    3561                             python-requests/2.21.0   \n",
       "\n",
       "              7  \n",
       "0  97.105.19.58  \n",
       "1  97.105.19.58  \n",
       "2  97.105.19.58  "
      ]
     },
     "execution_count": 18,
     "metadata": {},
     "output_type": "execute_result"
    }
   ],
   "source": [
    "df"
   ]
  },
  {
   "cell_type": "code",
   "execution_count": 19,
   "metadata": {},
   "outputs": [
    {
     "data": {
      "text/html": [
       "<div>\n",
       "<style scoped>\n",
       "    .dataframe tbody tr th:only-of-type {\n",
       "        vertical-align: middle;\n",
       "    }\n",
       "\n",
       "    .dataframe tbody tr th {\n",
       "        vertical-align: top;\n",
       "    }\n",
       "\n",
       "    .dataframe thead th {\n",
       "        text-align: right;\n",
       "    }\n",
       "</style>\n",
       "<table border=\"1\" class=\"dataframe\">\n",
       "  <thead>\n",
       "    <tr style=\"text-align: right;\">\n",
       "      <th></th>\n",
       "      <th>request_method</th>\n",
       "      <th>path</th>\n",
       "      <th>timestamp</th>\n",
       "      <th>http_version</th>\n",
       "      <th>status</th>\n",
       "      <th>size</th>\n",
       "      <th>request_agent</th>\n",
       "      <th>ip</th>\n",
       "    </tr>\n",
       "  </thead>\n",
       "  <tbody>\n",
       "    <tr>\n",
       "      <th>0</th>\n",
       "      <td>GET</td>\n",
       "      <td>/api/v1/sales?page=86</td>\n",
       "      <td>[16/Apr/2019:193452+0000]</td>\n",
       "      <td>HTTP/1.1</td>\n",
       "      <td>200</td>\n",
       "      <td>510348</td>\n",
       "      <td>python-requests/2.21.0</td>\n",
       "      <td>97.105.19.58</td>\n",
       "    </tr>\n",
       "    <tr>\n",
       "      <th>1</th>\n",
       "      <td>POST</td>\n",
       "      <td>/users_accounts/file-upload</td>\n",
       "      <td>[16/Apr/2019:193452+0000]</td>\n",
       "      <td>HTTP/1.1</td>\n",
       "      <td>201</td>\n",
       "      <td>42</td>\n",
       "      <td>User-Agent: Mozilla/5.0 (X11; Fedora; Fedora; ...</td>\n",
       "      <td>97.105.19.58</td>\n",
       "    </tr>\n",
       "    <tr>\n",
       "      <th>2</th>\n",
       "      <td>GET</td>\n",
       "      <td>/api/v1/items?page=3</td>\n",
       "      <td>[16/Apr/2019:193453+0000]</td>\n",
       "      <td>HTTP/1.1</td>\n",
       "      <td>429</td>\n",
       "      <td>3561</td>\n",
       "      <td>python-requests/2.21.0</td>\n",
       "      <td>97.105.19.58</td>\n",
       "    </tr>\n",
       "  </tbody>\n",
       "</table>\n",
       "</div>"
      ],
      "text/plain": [
       "  request_method                         path                  timestamp  \\\n",
       "0            GET        /api/v1/sales?page=86  [16/Apr/2019:193452+0000]   \n",
       "1           POST  /users_accounts/file-upload  [16/Apr/2019:193452+0000]   \n",
       "2            GET         /api/v1/items?page=3  [16/Apr/2019:193453+0000]   \n",
       "\n",
       "  http_version status    size  \\\n",
       "0     HTTP/1.1    200  510348   \n",
       "1     HTTP/1.1    201      42   \n",
       "2     HTTP/1.1    429    3561   \n",
       "\n",
       "                                       request_agent            ip  \n",
       "0                             python-requests/2.21.0  97.105.19.58  \n",
       "1  User-Agent: Mozilla/5.0 (X11; Fedora; Fedora; ...  97.105.19.58  \n",
       "2                             python-requests/2.21.0  97.105.19.58  "
      ]
     },
     "execution_count": 19,
     "metadata": {},
     "output_type": "execute_result"
    }
   ],
   "source": [
    "#Set the columns to the colnames\n",
    "df.columns= colnames\n",
    "df"
   ]
  },
  {
   "cell_type": "code",
   "execution_count": null,
   "metadata": {},
   "outputs": [],
   "source": []
  }
 ],
 "metadata": {
  "kernelspec": {
   "display_name": "Python 3",
   "language": "python",
   "name": "python3"
  },
  "language_info": {
   "codemirror_mode": {
    "name": "ipython",
    "version": 3
   },
   "file_extension": ".py",
   "mimetype": "text/x-python",
   "name": "python",
   "nbconvert_exporter": "python",
   "pygments_lexer": "ipython3",
   "version": "3.8.5"
  },
  "toc": {
   "base_numbering": 1,
   "nav_menu": {},
   "number_sections": true,
   "sideBar": true,
   "skip_h1_title": false,
   "title_cell": "Table of Contents",
   "title_sidebar": "Contents",
   "toc_cell": false,
   "toc_position": {},
   "toc_section_display": true,
   "toc_window_display": false
  }
 },
 "nbformat": 4,
 "nbformat_minor": 4
}
